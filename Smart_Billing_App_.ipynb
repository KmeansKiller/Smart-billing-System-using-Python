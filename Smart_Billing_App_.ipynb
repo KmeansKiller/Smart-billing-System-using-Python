{
 "cells": [
  {
   "cell_type": "markdown",
   "id": "5203ce60",
   "metadata": {},
   "source": [
    "# 🧾 Smart Billing App - Advanced POS System\n"
   ]
  },
  {
   "cell_type": "code",
   "execution_count": 1,
   "id": "cab5f69c",
   "metadata": {},
   "outputs": [
    {
     "data": {
      "text/plain": [
       "{'milk': {'price': 30, 'stock': 20},\n",
       " 'bread': {'price': 40, 'stock': 15},\n",
       " 'eggs': {'price': 6, 'stock': 50},\n",
       " 'cheese': {'price': 100, 'stock': 10}}"
      ]
     },
     "execution_count": 1,
     "metadata": {},
     "output_type": "execute_result"
    }
   ],
   "source": [
    "# 🛒 Product Catalog with Stock\n",
    "catalog = {\n",
    "    \"milk\": {\"price\": 30, \"stock\": 20},\n",
    "    \"bread\": {\"price\": 40, \"stock\": 15},\n",
    "    \"eggs\": {\"price\": 6, \"stock\": 50},\n",
    "    \"cheese\": {\"price\": 100, \"stock\": 10}\n",
    "}\n",
    "catalog"
   ]
  },
  {
   "cell_type": "code",
   "execution_count": 2,
   "id": "4639c5dd",
   "metadata": {},
   "outputs": [
    {
     "name": "stdin",
     "output_type": "stream",
     "text": [
      "Enter Customer Name:  Aditya Vairalkar\n",
      "Enter Phone Number:  2213224556\n"
     ]
    },
    {
     "name": "stdout",
     "output_type": "stream",
     "text": [
      "Invoice #: 94150\n"
     ]
    }
   ],
   "source": [
    "from datetime import datetime\n",
    "from re import match\n",
    "import random\n",
    "\n",
    "customer_name = input(\"Enter Customer Name: \")\n",
    "phone = input(\"Enter Phone Number: \")\n",
    "while not match(r'^\\d{10}$', phone):\n",
    "    phone = input(\"Invalid. Enter 10-digit Phone Number: \")\n",
    "invoice_no = random.randint(10000, 99999)\n",
    "print(f\"Invoice #: {invoice_no}\")"
   ]
  },
  {
   "cell_type": "code",
   "execution_count": 3,
   "id": "7fbdafbe",
   "metadata": {},
   "outputs": [
    {
     "name": "stdin",
     "output_type": "stream",
     "text": [
      "Enter item (or 'done'):  Book\n"
     ]
    },
    {
     "name": "stdout",
     "output_type": "stream",
     "text": [
      "Item not in catalog.\n"
     ]
    },
    {
     "name": "stdin",
     "output_type": "stream",
     "text": [
      "Enter item (or 'done'):  pencil\n"
     ]
    },
    {
     "name": "stdout",
     "output_type": "stream",
     "text": [
      "Item not in catalog.\n"
     ]
    },
    {
     "name": "stdin",
     "output_type": "stream",
     "text": [
      "Enter item (or 'done'):  notebook\n"
     ]
    },
    {
     "name": "stdout",
     "output_type": "stream",
     "text": [
      "Item not in catalog.\n"
     ]
    },
    {
     "name": "stdin",
     "output_type": "stream",
     "text": [
      "Enter item (or 'done'):  done\n"
     ]
    }
   ],
   "source": [
    "import pandas as pd\n",
    "items = []\n",
    "bill = pd.DataFrame(columns=[\"Item\", \"Qty\", \"Price\", \"Total\"])\n",
    "\n",
    "while True:\n",
    "    item = input(\"Enter item (or 'done'): \").lower()\n",
    "    if item == 'done':\n",
    "        break\n",
    "    if item not in catalog:\n",
    "        print(\"Item not in catalog.\")\n",
    "        continue\n",
    "    qty = int(input(\"Enter quantity: \"))\n",
    "    if qty > catalog[item]['stock']:\n",
    "        print(\"Not enough stock.\")\n",
    "        continue\n",
    "    price = catalog[item]['price']\n",
    "    total_price = qty * price\n",
    "    catalog[item]['stock'] -= qty\n",
    "    items.append((item, qty, price))\n",
    "    bill.loc[len(bill)] = [item, qty, price, total_price]\n",
    "    display(bill)"
   ]
  },
  {
   "cell_type": "code",
   "execution_count": 4,
   "id": "ebb35f47",
   "metadata": {},
   "outputs": [
    {
     "name": "stdout",
     "output_type": "stream",
     "text": [
      "Subtotal: ₹0.00\n",
      "GST (18%): ₹0.00\n",
      "Final Amount: ₹0.00\n"
     ]
    },
    {
     "name": "stdin",
     "output_type": "stream",
     "text": [
      "Enter discount %:  18\n"
     ]
    },
    {
     "name": "stdout",
     "output_type": "stream",
     "text": [
      "Discount: ₹0.00\n",
      "Amount Payable: ₹0.00\n"
     ]
    }
   ],
   "source": [
    "subtotal = sum(qty * price for _, qty, price in items)\n",
    "gst_rate = 0.18\n",
    "gst_amount = subtotal * gst_rate\n",
    "final_amount = subtotal + gst_amount\n",
    "print(f\"Subtotal: ₹{subtotal:.2f}\")\n",
    "print(f\"GST (18%): ₹{gst_amount:.2f}\")\n",
    "print(f\"Final Amount: ₹{final_amount:.2f}\")\n",
    "\n",
    "discount_percent = float(input(\"Enter discount %: \"))\n",
    "discount_amount = (discount_percent / 100) * final_amount\n",
    "payable_amount = final_amount - discount_amount\n",
    "print(f\"Discount: ₹{discount_amount:.2f}\")\n",
    "print(f\"Amount Payable: ₹{payable_amount:.2f}\")"
   ]
  },
  {
   "cell_type": "code",
   "execution_count": 8,
   "id": "42c5a322",
   "metadata": {},
   "outputs": [
    {
     "name": "stdout",
     "output_type": "stream",
     "text": [
      " Bill saved to: bill_Aditya Vairalkar_20250712_003948.txt\n",
      " CSV saved to: bill_Aditya Vairalkar_20250712_003948.csv\n",
      " Sales logged to sales_log.csv\n"
     ]
    }
   ],
   "source": [
    "filename = f\"bill_{customer_name}_{datetime.now().strftime('%Y%m%d_%H%M%S')}.txt\"\n",
    "with open(filename, 'w', encoding='utf-8') as f:\n",
    "    f.write(f\"🧾 BILL for {customer_name}\\n\")\n",
    "    f.write(f\"Phone: {phone}\\n\")\n",
    "    f.write(f\"Invoice #: {invoice_no}\\n\")\n",
    "    f.write(\"-\" * 40 + \"\\n\")\n",
    "    for item, qty, price in items:\n",
    "        f.write(f\"{item} - {qty} x ₹{price:.2f} = ₹{qty * price:.2f}\\n\")\n",
    "    f.write(\"-\" * 40 + \"\\n\")\n",
    "    f.write(f\"Subtotal: ₹{subtotal:.2f}\\n\")\n",
    "    f.write(f\"GST (18%): ₹{gst_amount:.2f}\\n\")\n",
    "    f.write(f\"Discount: ₹{discount_amount:.2f}\\n\")\n",
    "    f.write(f\"Total Payable: ₹{payable_amount:.2f}\\n\")\n",
    "    f.write(\"Thank you for shopping with us!\\n\")\n",
    "print(f\" Bill saved to: {filename}\")\n",
    "\n",
    "# CSV\n",
    "csv_filename = filename.replace(\".txt\", \".csv\")\n",
    "df = pd.DataFrame(items, columns=[\"Item\", \"Quantity\", \"Price\"])\n",
    "df[\"Total\"] = df[\"Quantity\"] * df[\"Price\"]\n",
    "df.to_csv(csv_filename, index=False)\n",
    "print(f\" CSV saved to: {csv_filename}\")\n",
    "\n",
    "# Sales Log\n",
    "sales_data = {\n",
    "    \"Invoice No\": invoice_no,\n",
    "    \"Customer\": customer_name,\n",
    "    \"Phone\": phone,\n",
    "    \"Items\": \", \".join([item for item, _, _ in items]),\n",
    "    \"Total\": round(payable_amount, 2),\n",
    "    \"Date\": datetime.now().strftime('%Y-%m-%d %H:%M')\n",
    "}\n",
    "log_df = pd.DataFrame([sales_data])\n",
    "log_df.to_csv(\"sales_log.csv\", mode='a', header=not pd.io.common.file_exists(\"sales_log.csv\"), index=False)\n",
    "print(\" Sales logged to sales_log.csv\")"
   ]
  },
  {
   "cell_type": "code",
   "execution_count": 9,
   "id": "8979b015",
   "metadata": {},
   "outputs": [
    {
     "name": "stdout",
     "output_type": "stream",
     "text": [
      "\n",
      "🛍️ ADI MART - Smart Shopping\n",
      "----------------------------\n",
      "🧡 Visit Again! For support, contact: support@adimart.com\n"
     ]
    }
   ],
   "source": [
    "store_name = \"🛍️ ADI MART - Smart Shopping\"\n",
    "footer = \"🧡 Visit Again! For support, contact: support@adimart.com\"\n",
    "print(\"\\n\" + store_name)\n",
    "print(\"-\" * len(store_name))\n",
    "print(footer)"
   ]
  },
  {
   "cell_type": "code",
   "execution_count": 10,
   "id": "fe8f9e04-febc-49ee-8b01-0e3f808a7452",
   "metadata": {},
   "outputs": [
    {
     "name": "stdin",
     "output_type": "stream",
     "text": [
      "Item name (or 'done'):  egg\n",
      "Qty:  3\n",
      "Price:  45\n",
      "Item name (or 'done'):  oil\n",
      "Qty:  2\n",
      "Price:  20\n",
      "Item name (or 'done'):  done\n"
     ]
    },
    {
     "name": "stdout",
     "output_type": "stream",
     "text": [
      "[('egg', 3, 45.0), ('oil', 2, 20.0)]\n"
     ]
    }
   ],
   "source": [
    "items = []\n",
    "while True:\n",
    "    item = input(\"Item name (or 'done'): \")\n",
    "    if item == 'done':\n",
    "        break\n",
    "    qty = int(input(\"Qty: \"))\n",
    "    price = float(input(\"Price: \"))\n",
    "    items.append((item, qty, price))\n",
    "\n",
    "print(items)\n"
   ]
  },
  {
   "cell_type": "code",
   "execution_count": null,
   "id": "7ecb2eb2-c9a8-4f6b-9644-c871069f73e0",
   "metadata": {},
   "outputs": [],
   "source": []
  },
  {
   "cell_type": "code",
   "execution_count": null,
   "id": "690bb9fd-a33b-4230-8f73-277dc10c5993",
   "metadata": {},
   "outputs": [],
   "source": []
  }
 ],
 "metadata": {
  "kernelspec": {
   "display_name": "Python [conda env:base] *",
   "language": "python",
   "name": "conda-base-py"
  },
  "language_info": {
   "codemirror_mode": {
    "name": "ipython",
    "version": 3
   },
   "file_extension": ".py",
   "mimetype": "text/x-python",
   "name": "python",
   "nbconvert_exporter": "python",
   "pygments_lexer": "ipython3",
   "version": "3.13.5"
  }
 },
 "nbformat": 4,
 "nbformat_minor": 5
}
